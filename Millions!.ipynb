{
 "cells": [
  {
   "cell_type": "code",
   "execution_count": 1,
   "id": "18793a47",
   "metadata": {},
   "outputs": [],
   "source": [
    "net_worths = [154000, 234500, 54000, 123456, 980000, 300000, 23800]"
   ]
  },
  {
   "cell_type": "code",
   "execution_count": 2,
   "id": "ea989cd4",
   "metadata": {},
   "outputs": [
    {
     "name": "stdout",
     "output_type": "stream",
     "text": [
      "[846000, 765500, 946000, 876544, 20000, 700000, 976200]\n"
     ]
    }
   ],
   "source": [
    "import math\n",
    "def millions(listy_list):\n",
    "    milli_list = []\n",
    "    for x in listy_list:\n",
    "        milli_dist = 1000000-x\n",
    "        milli_list.append(milli_dist)\n",
    "    return milli_list\n",
    "\n",
    "print(millions(net_worths))\n",
    "    "
   ]
  }
 ],
 "metadata": {
  "kernelspec": {
   "display_name": "Python 3 (ipykernel)",
   "language": "python",
   "name": "python3"
  },
  "language_info": {
   "codemirror_mode": {
    "name": "ipython",
    "version": 3
   },
   "file_extension": ".py",
   "mimetype": "text/x-python",
   "name": "python",
   "nbconvert_exporter": "python",
   "pygments_lexer": "ipython3",
   "version": "3.9.12"
  }
 },
 "nbformat": 4,
 "nbformat_minor": 5
}
